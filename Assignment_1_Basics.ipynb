{
 "cells": [
  {
   "cell_type": "code",
   "execution_count": 17,
   "id": "e517f607",
   "metadata": {},
   "outputs": [
    {
     "name": "stdout",
     "output_type": "stream",
     "text": [
      "enter the number 5\n",
      "The square of 5 is 25 \n"
     ]
    }
   ],
   "source": [
    "num1=int(input(\"enter the number \"))\n",
    "print(\"The square of {} is {} \".format(num1,num1*num1))"
   ]
  },
  {
   "cell_type": "code",
   "execution_count": 24,
   "id": "75892a34",
   "metadata": {},
   "outputs": [
    {
     "name": "stdout",
     "output_type": "stream",
     "text": [
      "Enter the number 7\n",
      "7 --- 14 --- 21 --- 28 --- 35\n"
     ]
    }
   ],
   "source": [
    "x=int(input(\"Enter the number \"))\n",
    "print(\"{} --- {} --- {} --- {} --- {}\".format(x,2*x,3*x,4*x,5*x))\n"
   ]
  },
  {
   "cell_type": "code",
   "execution_count": 29,
   "id": "716b771a",
   "metadata": {},
   "outputs": [
    {
     "name": "stdout",
     "output_type": "stream",
     "text": [
      "Enter the weight in kg 80\n",
      "176.0\n"
     ]
    }
   ],
   "source": [
    "weight=eval(input(\"Enter the weight in kg \")) \n",
    "pounds=2.2*weight\n",
    "print(pounds)"
   ]
  },
  {
   "cell_type": "code",
   "execution_count": 33,
   "id": "22aecc90",
   "metadata": {},
   "outputs": [
    {
     "name": "stdout",
     "output_type": "stream",
     "text": [
      "enter the number 1\n",
      "enter the number 2\n",
      "enter the number 3\n",
      "Total: 6\n",
      "Avg: 2.0\n"
     ]
    }
   ],
   "source": [
    "num1=int(input(\"enter the number \"))\n",
    "num2=int(input(\"enter the number \"))\n",
    "num3=int(input(\"enter the number \"))\n",
    "total = num1+num2+num3\n",
    "avg = total/3\n",
    "print(\"Total:\", total)\n",
    "print(\"Avg:\", avg)\n"
   ]
  },
  {
   "cell_type": "code",
   "execution_count": null,
   "id": "506de00c",
   "metadata": {},
   "outputs": [],
   "source": []
  },
  {
   "cell_type": "code",
   "execution_count": 37,
   "id": "dd995e9e",
   "metadata": {},
   "outputs": [
    {
     "name": "stdout",
     "output_type": "stream",
     "text": [
      "enter the price 3000\n",
      "enter the percentage of tip 10\n",
      "3300.0\n"
     ]
    }
   ],
   "source": [
    "price_of_meal = int(input(\"enter the price \"))\n",
    "percent_of_tip = int(input(\"enter the percentage of tip \"))\n",
    "tip = (percent_of_tip/100)*price_of_meal\n",
    "total_amount = price_of_meal + tip\n",
    "print(total_amount)"
   ]
  },
  {
   "cell_type": "code",
   "execution_count": 39,
   "id": "8a29a33e",
   "metadata": {},
   "outputs": [
    {
     "name": "stdout",
     "output_type": "stream",
     "text": [
      "\n"
     ]
    }
   ],
   "source": []
  },
  {
   "cell_type": "code",
   "execution_count": null,
   "id": "72697006",
   "metadata": {},
   "outputs": [],
   "source": []
  },
  {
   "cell_type": "code",
   "execution_count": null,
   "id": "c646dbc0",
   "metadata": {},
   "outputs": [],
   "source": []
  }
 ],
 "metadata": {
  "kernelspec": {
   "display_name": "Python 3 (ipykernel)",
   "language": "python",
   "name": "python3"
  },
  "language_info": {
   "codemirror_mode": {
    "name": "ipython",
    "version": 3
   },
   "file_extension": ".py",
   "mimetype": "text/x-python",
   "name": "python",
   "nbconvert_exporter": "python",
   "pygments_lexer": "ipython3",
   "version": "3.10.9"
  }
 },
 "nbformat": 4,
 "nbformat_minor": 5
}
